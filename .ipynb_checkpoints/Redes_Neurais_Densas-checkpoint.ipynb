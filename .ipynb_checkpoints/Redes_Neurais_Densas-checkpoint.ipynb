{
 "cells": [
  {
   "cell_type": "markdown",
   "id": "babce216-380d-4e79-a036-a92788b52279",
   "metadata": {},
   "source": [
    "# Introdução ao Framework PyTorch e Implementação de Redes Neurais Densas)."
   ]
  },
  {
   "cell_type": "markdown",
   "id": "d3378b2e-6878-49d5-848d-4a3500d051f8",
   "metadata": {},
   "source": [
    "- Introdução ao PyTorch\n",
    "- Operações com tensores\n",
    "- Treinando uma rede neural densa (fully connected)"
   ]
  },
  {
   "cell_type": "code",
   "execution_count": null,
   "id": "0f1fc608-f7d1-4b47-b991-f0df04435272",
   "metadata": {},
   "outputs": [],
   "source": []
  }
 ],
 "metadata": {
  "kernelspec": {
   "display_name": "Python 3 (ipykernel)",
   "language": "python",
   "name": "python3"
  },
  "language_info": {
   "codemirror_mode": {
    "name": "ipython",
    "version": 3
   },
   "file_extension": ".py",
   "mimetype": "text/x-python",
   "name": "python",
   "nbconvert_exporter": "python",
   "pygments_lexer": "ipython3",
   "version": "3.11.7"
  }
 },
 "nbformat": 4,
 "nbformat_minor": 5
}
